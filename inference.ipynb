{
 "cells": [
  {
   "cell_type": "code",
   "execution_count": 1,
   "metadata": {},
   "outputs": [],
   "source": [
    "from mmpose.apis import (inference_bottom_up_pose_model, init_pose_model,\n",
    "                         vis_pose_result)\n",
    "from mmcv import Config\n",
    "from mmpose.datasets import build_dataloader, build_dataset\n",
    "from mmpose.datasets import DatasetInfo\n",
    "from matplotlib import pyplot as plt\n",
    "import os\n",
    "import cv2"
   ]
  },
  {
   "cell_type": "code",
   "execution_count": 2,
   "metadata": {},
   "outputs": [],
   "source": [
    "from mmpose.apis import (inference_bottom_up_pose_model, init_pose_model,\n",
    "                         vis_pose_result)\n",
    "# from mmpose.datasets import build_dataloader, build_dataset\n",
    "from mmpose.models import build_posenet"
   ]
  },
  {
   "cell_type": "code",
   "execution_count": 3,
   "metadata": {},
   "outputs": [],
   "source": [
    "checkpoint = '/mnt/ssd/marley/ID_Card/mmpose/work_dirs/baseline_2_higherhrnet/epoch_10.pth'\n",
    "config_file = '/mnt/ssd/marley/ID_Card/mmpose/configs/ID_card/baseline_2_higherhrnet_w32_IDCard_512x512.py'\n",
    "cfg = Config.fromfile(config_file)"
   ]
  },
  {
   "cell_type": "code",
   "execution_count": 4,
   "metadata": {},
   "outputs": [
    {
     "name": "stdout",
     "output_type": "stream",
     "text": [
      "Use load_from_local loader\n"
     ]
    }
   ],
   "source": [
    "model = init_pose_model(cfg, checkpoint)\n",
    "dataset_info = model.cfg.data['test'].get('dataset_info', None)\n",
    "dataset_info = DatasetInfo(dataset_info)"
   ]
  },
  {
   "cell_type": "code",
   "execution_count": 5,
   "metadata": {},
   "outputs": [],
   "source": [
    "# images = [os.path.join('/mnt/ssd/marley/ID_Card/ID_card_data/filter_kpt/val',img) for img in os.listdir('/mnt/ssd/marley/ID_Card/ID_card_data/filter_kpt/val') if img.endswith('.jpg')]\n",
    "# dataset = build_dataset(cfg.data.test, dict(test_mode=True))"
   ]
  },
  {
   "cell_type": "code",
   "execution_count": 6,
   "metadata": {},
   "outputs": [
    {
     "name": "stdout",
     "output_type": "stream",
     "text": [
      "0.1\n",
      "2 (4, 5)\n"
     ]
    },
    {
     "name": "stderr",
     "output_type": "stream",
     "text": [
      "/mnt/ssd/marley/ID_Card/open-mmlab/lib/python3.6/site-packages/torch/nn/functional.py:718: UserWarning: Named tensors and all their associated APIs are an experimental feature and subject to change. Please do not use them for anything important until they are released as stable. (Triggered internally at  /pytorch/c10/core/TensorImpl.h:1156.)\n",
      "  return torch.max_pool2d(input, kernel_size, stride, padding, dilation, ceil_mode)\n",
      "/mnt/ssd/marley/ID_Card/open-mmlab/lib/python3.6/site-packages/torch/_tensor.py:575: UserWarning: floor_divide is deprecated, and will be removed in a future version of pytorch. It currently rounds toward 0 (like the 'trunc' function NOT 'floor'). This results in incorrect rounding for negative values.\n",
      "To keep the current behavior, use torch.div(a, b, rounding_mode='trunc'), or for actual floor division, use torch.div(a, b, rounding_mode='floor'). (Triggered internally at  /pytorch/aten/src/ATen/native/BinaryOps.cpp:467.)\n",
      "  return torch.floor_divide(self, other)\n"
     ]
    }
   ],
   "source": [
    "img = '/mnt/ssd/marley/ID_Card/ID_card_data/test/test_653.jpg'\n",
    "keypoint_results, returned_outputs = inference_bottom_up_pose_model(model, img, 'BottomUpIDCardDataset', dataset_info, return_heatmap=True)\n",
    "# for result in keypoint_results:\n",
    "#     result['keypoints'][:,0] = result['keypoints'][:,0]/0.23958820776789894\n",
    "#     result['keypoints'][:,1] = result['keypoints'][:,1]/0.27871529667936856\n",
    "# vis_result = vis_pose_result(model,\n",
    "#                              img,\n",
    "#                              keypoint_results,\n",
    "#                              radius=20,\n",
    "#                              thickness=15,\n",
    "#                              dataset=model.cfg.data.test.type,\n",
    "#                              show=False)\n",
    "# vis_result = cv2.cvtColor(vis_result, cv2.COLOR_BGR2RGB)\n",
    "# plt.imshow(vis_result)"
   ]
  },
  {
   "cell_type": "code",
   "execution_count": 7,
   "metadata": {},
   "outputs": [],
   "source": [
    "# from skimage import exposure\n",
    "# img = cv2.resize(vis_result, (640, 512))\n",
    "# for slice in heatmap:\n",
    "#     map_img = exposure.rescale_intensity(slice, out_range=(0, 255))\n",
    "#     map_img = np.uint8(map_img) \n",
    "#     heatmap_img = cv2.applyColorMap(map_img, cv2.COLORMAP_JET)\n",
    "#     img = cv2.addWeighted(heatmap_img, 0.3, img, 0.8, 0)"
   ]
  },
  {
   "cell_type": "code",
   "execution_count": 8,
   "metadata": {},
   "outputs": [],
   "source": [
    "# fin = cv2.addWeighted(heatmap_img, 0.5, img, 0.5, 0)\n",
    "# plt.imshow(fin)"
   ]
  },
  {
   "cell_type": "code",
   "execution_count": 9,
   "metadata": {},
   "outputs": [],
   "source": [
    "# def _draw_target(img, joints):\n",
    "#     \"\"\"Draw target joints\"\"\"\n",
    "#     img_copy = img\n",
    "#     colors = [[255, 0, 0], [0, 255, 0], [0, 0, 255], [128, 128, 128]]\n",
    "#     for i in range(joints.shape[0]): # Num card in image\n",
    "#         for j in range(joints.shape[1]): # Num keypoints\n",
    "#             x = int(joints[i, j, 0]* (w/512.0)) \n",
    "#             y = int(joints[i, j, 1]* (h/512.0)) \n",
    "#             print(x,y)\n",
    "#             img_copy = cv2.circle(img_copy, (x, y),\n",
    "#                                         radius=4, color=colors[j], thickness=5)\n",
    "#     return img_copy"
   ]
  },
  {
   "cell_type": "code",
   "execution_count": 10,
   "metadata": {},
   "outputs": [
    {
     "ename": "NameError",
     "evalue": "name '_draw_target' is not defined",
     "output_type": "error",
     "traceback": [
      "\u001b[0;31m---------------------------------------------------------------------------\u001b[0m",
      "\u001b[0;31mNameError\u001b[0m                                 Traceback (most recent call last)",
      "\u001b[0;32m<ipython-input-10-ce3563cd32fc>\u001b[0m in \u001b[0;36m<module>\u001b[0;34m\u001b[0m\n\u001b[0;32m----> 1\u001b[0;31m \u001b[0mimg\u001b[0m \u001b[0;34m=\u001b[0m \u001b[0m_draw_target\u001b[0m\u001b[0;34m(\u001b[0m\u001b[0mimg\u001b[0m\u001b[0;34m,\u001b[0m \u001b[0mjoint\u001b[0m\u001b[0;34m)\u001b[0m\u001b[0;34m\u001b[0m\u001b[0;34m\u001b[0m\u001b[0m\n\u001b[0m",
      "\u001b[0;31mNameError\u001b[0m: name '_draw_target' is not defined"
     ]
    }
   ],
   "source": [
    "img = _draw_target(img, joint)"
   ]
  },
  {
   "cell_type": "code",
   "execution_count": null,
   "metadata": {},
   "outputs": [
    {
     "data": {
      "text/plain": [
       "<matplotlib.image.AxesImage at 0x7f44682a0be0>"
      ]
     },
     "execution_count": 34,
     "metadata": {},
     "output_type": "execute_result"
    },
    {
     "data": {
      "image/png": "[encoded data removed]",
      "text/plain": [
       "<Figure size 432x288 with 1 Axes>"
      ]
     },
     "metadata": {
      "needs_background": "light"
     },
     "output_type": "display_data"
    }
   ],
   "source": [
    "plt.imshow(img)"
   ]
  },
  {
   "cell_type": "code",
   "execution_count": null,
   "metadata": {},
   "outputs": [],
   "source": []
  }
 ],
 "metadata": {
  "interpreter": {
   "hash": "21210da7405a6c9f69f844db79f556ea5c18ae3b92897557fa79146d548460a9"
  },
  "kernelspec": {
   "display_name": "Python 3.6.9 64-bit ('open-mmlab': venv)",
   "name": "python3"
  },
  "language_info": {
   "codemirror_mode": {
    "name": "ipython",
    "version": 3
   },
   "file_extension": ".py",
   "mimetype": "text/x-python",
   "name": "python",
   "nbconvert_exporter": "python",
   "pygments_lexer": "ipython3",
   "version": "3.6.9"
  },
  "orig_nbformat": 4
 },
 "nbformat": 4,
 "nbformat_minor": 2
}
